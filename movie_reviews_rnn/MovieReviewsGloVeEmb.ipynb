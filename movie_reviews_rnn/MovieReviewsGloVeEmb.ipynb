{
 "cells": [
  {
   "cell_type": "markdown",
   "metadata": {},
   "source": [
    "<h1><center>ML DSL in Action</center></h1>\n",
    "\n",
    "Google Cloud Platform: \n",
    "1. Google Dataproc\n",
    "2. Google Cloud Storage\n",
    "3. Google AI Platform"
   ]
  },
  {
   "cell_type": "code",
   "execution_count": 1,
   "metadata": {},
   "outputs": [],
   "source": [
    "import com.griddynamics.dsl.ml.mldsl as mldsl\n",
    "from com.griddynamics.dsl.ml.settings.profiles import PySparkJobProfile, Profile\n",
    "from com.griddynamics.dsl.ml.settings.description import Platform\n",
    "\n",
    "import importlib\n",
    "import os\n",
    "from datetime import datetime\n",
    "from sklearn.metrics import classification_report, confusion_matrix\n",
    "import matplotlib\n",
    "import seaborn as sns\n",
    "import matplotlib.pyplot as plt\n",
    "import pandas as pd\n",
    "%matplotlib inline"
   ]
  },
  {
   "cell_type": "markdown",
   "metadata": {},
   "source": [
    "## Prepare Sequences from Original Text"
   ]
  },
  {
   "cell_type": "markdown",
   "metadata": {},
   "source": [
    "### Text Sample"
   ]
  },
  {
   "cell_type": "code",
   "execution_count": 2,
   "metadata": {},
   "outputs": [
    {
     "name": "stdout",
     "output_type": "stream",
     "text": [
      "I went and saw this movie last night after being coaxed to by a few friends of mine. I'll admit that I was reluctant to see it because from what I knew of Ashton Kutcher he was only able to do comedy. I was wrong. Kutcher played the character of Jake Fischer very well, and Kevin Costner played Ben Randall with such professionalism. The sign of a good movie is that it can toy with our emotions. This one did exactly that. The entire theater (which was sold out) was overcome by laughter during the first half of the movie, and were moved to tears during the second half. While exiting the theater I not only saw many women in tears, but many full grown men as well, trying desperately not to let anyone see them crying. This movie was great, and I suggest that you go see it before you judge."
     ]
    }
   ],
   "source": [
    "!head -n 20 dev/aclImdb/test/pos/0_10.txt"
   ]
  },
  {
   "cell_type": "markdown",
   "metadata": {},
   "source": [
    "### Tokenizer to Create Sequences "
   ]
  },
  {
   "cell_type": "markdown",
   "metadata": {},
   "source": [
    "### Execute Tokenizer on ML Platform"
   ]
  },
  {
   "cell_type": "code",
   "execution_count": 104,
   "metadata": {},
   "outputs": [
    {
     "name": "stdout",
     "output_type": "stream",
     "text": [
      "Temporary path: /home/jovyan/work/data/.mldsl/ml_text_tokenizer.py\n"
     ]
    },
    {
     "data": {
      "text/plain": [
       "<com.griddynamics.dsl.ml.py_script.PyScript at 0x7f2f3ed848d0>"
      ]
     },
     "execution_count": 104,
     "metadata": {},
     "output_type": "execute_result"
    }
   ],
   "source": [
    "%py_script_open -n ml_text_tokenizer.py -p demo/scripts -o dev"
   ]
  },
  {
   "cell_type": "code",
   "execution_count": 4,
   "metadata": {},
   "outputs": [],
   "source": [
    "platform = Platform.GCP\n",
    "profile = PySparkJobProfile(root_path='/home/jovyan/work/data/demo/scripts',\n",
    "                                  bucket='ai4ops',\n",
    "                                  project='gd-gcp-techlead-experiments',\n",
    "                                  cluster='ai4ops',\n",
    "                                  region='global',\n",
    "                                  ai_region='us-central1',\n",
    "                                  job_prefix='demo_job',\n",
    "                                  job_async=False,\n",
    "                           )\n",
    "profile.args={\"--train_pos_path\": \"gs://ai4ops/mldsl/data/aclImdb/train/pos\",\n",
    "              \"--train_neg_path\": \"gs://ai4ops/mldsl/data/aclImdb/train/neg\",\n",
    "              \"--test_pos_path\": \"gs://ai4ops/mldsl/data/aclImdb/test/pos\",\n",
    "              \"--test_neg_path\": \"gs://ai4ops/mldsl/data/aclImdb/test/neg\",\n",
    "              \"--max_seq\": \"500\",\n",
    "              \"--word_embeds\": \"gs://ai4ops/mldsl/data/glove.6B.50d.txt\"}\n",
    "Profile.set('CreateSequencesProfile', profile)"
   ]
  },
  {
   "cell_type": "code",
   "execution_count": 5,
   "metadata": {},
   "outputs": [
    {
     "name": "stdout",
     "output_type": "stream",
     "text": [
      "Parameters string = <<<-n ml_text_tokenizer.py -p CreateSequencesProfile -pm 1 -o gs://ai4ops/mldsl/data>>>\n"
     ]
    },
    {
     "data": {
      "text/html": [
       "<a href=\"https://console.cloud.google.com/dataproc/jobs/demo_job_1586421552?project=gd-gcp-techlead-experiments&region=global\">demo_job_1586421552</a>"
      ],
      "text/plain": [
       "<IPython.core.display.HTML object>"
      ]
     },
     "metadata": {},
     "output_type": "display_data"
    },
    {
     "name": "stdout",
     "output_type": "stream",
     "text": [
      "Job with id demo_job_1586421552 was submitted to the cluster ai4ops\n",
      "Job STATUS was set to DONE at 2020-04-09 09:16:55\n"
     ]
    },
    {
     "data": {
      "text/html": [
       "<a href=\"https://console.cloud.google.com/storage/browser/ai4ops/mldsl/data/demo_job_1586421552?project=gd-gcp-techlead-experiments\">Output Data demo_job_1586421552</a>"
      ],
      "text/plain": [
       "<IPython.core.display.HTML object>"
      ]
     },
     "metadata": {},
     "output_type": "display_data"
    },
    {
     "data": {
      "application/json": {
       "driver_control_files_uri": "gs://ai4ops/google-cloud-dataproc-metainfo/2d057403-a13f-40fa-b785-43cf3d7e2bc3/jobs/demo_job_1586421552/",
       "driver_output_resource_uri": "gs://ai4ops/google-cloud-dataproc-metainfo/2d057403-a13f-40fa-b785-43cf3d7e2bc3/jobs/demo_job_1586421552/driveroutput",
       "labels": {},
       "placement": {
        "cluster_name": "ai4ops"
       },
       "pyspark_job": {
        "archive_uris": [],
        "args": [
         "--output_path",
         "gs://ai4ops/mldsl/data/demo_job_1586421552",
         "--train_pos_path",
         "gs://ai4ops/mldsl/data/aclImdb/train/pos",
         "--train_neg_path",
         "gs://ai4ops/mldsl/data/aclImdb/train/neg",
         "--test_pos_path",
         "gs://ai4ops/mldsl/data/aclImdb/test/pos",
         "--test_neg_path",
         "gs://ai4ops/mldsl/data/aclImdb/test/neg",
         "--max_seq",
         "500",
         "--word_embeds",
         "gs://ai4ops/mldsl/data/glove.6B.50d.txt"
        ],
        "file_uris": [],
        "jar_file_uris": [],
        "logging_config": {
         "driver_log_levels": {}
        },
        "main_python_file_uri": "gs://ai4ops/jobs-root/demo_job_1586421552/ml_text_tokenizer.py",
        "properties": {},
        "python_file_uris": [
         "gs://ai4ops/jobs-root/demo_job_1586421552/ml_text_tokenizer.py"
        ]
       },
       "reference": {
        "job_id": "demo_job_1586421552",
        "project_id": "gd-gcp-techlead-experiments"
       },
       "scheduling": {
        "max_failures_per_hour": 0
       },
       "start_time": "2020-04-09T09:16:55.000000",
       "status": "DONE",
       "yarn_applications": [
        {
         "name": "word_tokenizer",
         "progress": 1,
         "state": "FINISHED",
         "trackingUrl": "http://ai4ops-m:8088/proxy/application_1570197709805_0236/"
        }
       ]
      },
      "text/plain": [
       "<IPython.core.display.JSON object>"
      ]
     },
     "metadata": {
      "application/json": {
       "expanded": false,
       "root": "root"
      }
     },
     "output_type": "display_data"
    }
   ],
   "source": [
    "%py_data -n ml_text_tokenizer.py -p CreateSequencesProfile -pm $platform -o gs://ai4ops/mldsl/data"
   ]
  },
  {
   "cell_type": "code",
   "execution_count": null,
   "metadata": {},
   "outputs": [],
   "source": [
    "#Use job_demo_job_1586421552 instance to browse job properties.\n",
    "#job_demo_job_1586421552 = job_tracker['demo_job_1586421552']"
   ]
  },
  {
   "cell_type": "markdown",
   "metadata": {},
   "source": [
    "### Reading logs of dataproc job"
   ]
  },
  {
   "cell_type": "code",
   "execution_count": 6,
   "metadata": {},
   "outputs": [],
   "source": [
    "project_id = \"gd-gcp-techlead-experiments\"\n",
    "\n",
    "filters = \"\"\"resource.type:cloud_dataproc_cluster\n",
    "AND timestamp>2020-02-16\n",
    "AND resource.labels.cluster_name:ai4ops \n",
    "AND jsonPayload.application:application_1570197709805_0110\"\"\""
   ]
  },
  {
   "cell_type": "code",
   "execution_count": 7,
   "metadata": {},
   "outputs": [],
   "source": [
    "#%logging -p $project_id -f $filters"
   ]
  },
  {
   "cell_type": "markdown",
   "metadata": {},
   "source": [
    "# ML Model to Predict Positive or Negative Review"
   ]
  },
  {
   "cell_type": "markdown",
   "metadata": {},
   "source": [
    "### Configure Additional Dependencies"
   ]
  },
  {
   "cell_type": "markdown",
   "metadata": {},
   "source": [
    "### LSTM Train Script"
   ]
  },
  {
   "cell_type": "code",
   "execution_count": 129,
   "metadata": {},
   "outputs": [
    {
     "name": "stdout",
     "output_type": "stream",
     "text": [
      "Max sequence is set to 200\n",
      "Model: \"model\"\n",
      "_________________________________________________________________\n",
      "Layer (type)                 Output Shape              Param #   \n",
      "=================================================================\n",
      "input_1 (InputLayer)         [(None, 200)]             0         \n",
      "_________________________________________________________________\n",
      "embedding (Embedding)        (None, 200, 50)           20000050  \n",
      "_________________________________________________________________\n",
      "lstm (LSTM)                  (None, 32)                10624     \n",
      "_________________________________________________________________\n",
      "dropout (Dropout)            (None, 32)                0         \n",
      "_________________________________________________________________\n",
      "dense (Dense)                (None, 2)                 66        \n",
      "_________________________________________________________________\n",
      "activation (Activation)      (None, 2)                 0         \n",
      "=================================================================\n",
      "Total params: 20,010,740\n",
      "Trainable params: 10,690\n",
      "Non-trainable params: 20,000,050\n",
      "_________________________________________________________________\n",
      "None\n",
      "Epoch 1/30\n",
      "25000/25000 [==============================] - 23s 906us/sample - loss: 0.7030 - acc: 0.5114\n",
      "Epoch 2/30\n",
      "25000/25000 [==============================] - 22s 885us/sample - loss: 0.6859 - acc: 0.5406\n",
      "Epoch 3/30\n",
      "25000/25000 [==============================] - 22s 884us/sample - loss: 0.6815 - acc: 0.5489\n",
      "Epoch 4/30\n",
      "25000/25000 [==============================] - 22s 888us/sample - loss: 0.6799 - acc: 0.5533\n",
      "Epoch 5/30\n",
      "25000/25000 [==============================] - 22s 885us/sample - loss: 0.6608 - acc: 0.5915\n",
      "Epoch 6/30\n",
      "25000/25000 [==============================] - 22s 891us/sample - loss: 0.5942 - acc: 0.7172\n",
      "Epoch 7/30\n",
      "25000/25000 [==============================] - 22s 884us/sample - loss: 0.5762 - acc: 0.7370\n",
      "Epoch 8/30\n",
      "25000/25000 [==============================] - 22s 885us/sample - loss: 0.7012 - acc: 0.5140\n",
      "Epoch 9/30\n",
      "25000/25000 [==============================] - 22s 884us/sample - loss: 0.6915 - acc: 0.5148\n",
      "Epoch 10/30\n",
      "25000/25000 [==============================] - 22s 884us/sample - loss: 0.6847 - acc: 0.5345\n",
      "Epoch 11/30\n",
      "25000/25000 [==============================] - 22s 880us/sample - loss: 0.6708 - acc: 0.5723\n",
      "Epoch 12/30\n",
      "25000/25000 [==============================] - 22s 884us/sample - loss: 0.6274 - acc: 0.6644\n",
      "Epoch 13/30\n",
      "25000/25000 [==============================] - 22s 894us/sample - loss: 0.5561 - acc: 0.7432\n",
      "Epoch 14/30\n",
      "25000/25000 [==============================] - 22s 885us/sample - loss: 0.5146 - acc: 0.7745\n",
      "Epoch 15/30\n",
      "25000/25000 [==============================] - 22s 889us/sample - loss: 0.4904 - acc: 0.7882\n",
      "Epoch 16/30\n",
      "25000/25000 [==============================] - 22s 883us/sample - loss: 0.4729 - acc: 0.7918\n",
      "Epoch 17/30\n",
      "25000/25000 [==============================] - 22s 887us/sample - loss: 0.4677 - acc: 0.7975\n",
      "Epoch 18/30\n",
      "25000/25000 [==============================] - 22s 885us/sample - loss: 0.4458 - acc: 0.8069\n",
      "Epoch 19/30\n",
      "25000/25000 [==============================] - 22s 883us/sample - loss: 0.4438 - acc: 0.8084\n",
      "Epoch 20/30\n",
      "25000/25000 [==============================] - 22s 886us/sample - loss: 0.4407 - acc: 0.8078\n",
      "Epoch 21/30\n",
      "25000/25000 [==============================] - 22s 881us/sample - loss: 0.4199 - acc: 0.8172\n",
      "Epoch 22/30\n",
      "25000/25000 [==============================] - 22s 882us/sample - loss: 0.4095 - acc: 0.8196\n",
      "Epoch 23/30\n",
      "25000/25000 [==============================] - 22s 879us/sample - loss: 0.4136 - acc: 0.8183\n",
      "Epoch 24/30\n",
      "25000/25000 [==============================] - 22s 886us/sample - loss: 0.4074 - acc: 0.8262\n",
      "Epoch 25/30\n",
      "25000/25000 [==============================] - 22s 883us/sample - loss: 0.3963 - acc: 0.8278\n",
      "Epoch 26/30\n",
      "25000/25000 [==============================] - 22s 887us/sample - loss: 0.3863 - acc: 0.8311\n",
      "Epoch 27/30\n",
      "25000/25000 [==============================] - 22s 890us/sample - loss: 0.4462 - acc: 0.8077\n",
      "Epoch 28/30\n",
      "25000/25000 [==============================] - 22s 885us/sample - loss: 0.4395 - acc: 0.8066\n",
      "Epoch 29/30\n",
      "25000/25000 [==============================] - 22s 879us/sample - loss: 0.4223 - acc: 0.8183\n",
      "Epoch 30/30\n",
      "25000/25000 [==============================] - 22s 883us/sample - loss: 0.3946 - acc: 0.8283\n",
      "Saving the model as SavedModel is not supported in TensorFlow 1.Xgraph mode. Please enable eager execution or use the \"h5\" save format.\n",
      "Temporary path: /home/jovyan/work/data/.mldsl/mr_model.py\n"
     ]
    },
    {
     "data": {
      "text/plain": [
       "<com.griddynamics.dsl.ml.py_script.PyScript at 0x7f2f3fd444e0>"
      ]
     },
     "execution_count": 129,
     "metadata": {},
     "output_type": "execute_result"
    }
   ],
   "source": [
    "%%py_script -e -n mr_model.py -p demo/model/words/trainer -o ./dev/models --epochs 30 --train_path gs://ai4ops/mldsl/data/demo_job_1586421552/train --word_embeds gs://ai4ops/mldsl/data/demo_job_1586421552/words --seq_len 200\n",
    "#!/usr/bin/python\n",
    "\n",
    "import warnings\n",
    "with warnings.catch_warnings():\n",
    "    warnings.simplefilter(\"ignore\")\n",
    "    import pandas as pd\n",
    "    import numpy as np\n",
    "    from tensorflow.python.lib.io import file_io\n",
    "    from tensorflow.keras.layers import Dense, Input, LSTM, Embedding, Dropout, Activation\n",
    "    from tensorflow.keras.models import Model\n",
    "    from tensorflow.keras.callbacks import Callback\n",
    "    from tensorflow.keras.optimizers import Adam\n",
    "    import tensorflow as tf\n",
    "    from tensorflow.core.protobuf import rewriter_config_pb2\n",
    "    from tensorflow.keras.backend import set_session\n",
    "    tf.keras.backend.clear_session()  # For easy reset of notebook state.\n",
    "\n",
    "    from uuid import uuid4\n",
    "    import argparse\n",
    "    import matplotlib\n",
    "    if matplotlib.get_backend() in ['TkAgg', 'TkCairo']:\n",
    "        matplotlib.use('agg')\n",
    "    import matplotlib.pyplot as plt\n",
    "    import seaborn as sns\n",
    "\n",
    "\n",
    "class MetricCallback(Callback):\n",
    "    def on_train_begin(self,logs={}):\n",
    "        self.losses = []\n",
    "        self.accuracies = []\n",
    "\n",
    "    def on_batch_end(self, batch, logs={}):\n",
    "        self.losses.append(logs.get('loss'))\n",
    "        self.accuracies.append(logs.get('acc'))\n",
    "\n",
    "\n",
    "def read_glove_vectors(glove_file):\n",
    "    files = file_io.get_matching_files('{}/part*'.format(glove_file))\n",
    "    for file in files:\n",
    "        with file_io.FileIO(file, 'r') as f:\n",
    "            word_to_vec_map = {}\n",
    "            words_to_index = {}\n",
    "        fl = f.readline()\n",
    "        for line in f:\n",
    "            line = line.strip().split('\\t')\n",
    "            word_to_vec_map[line[0]] = np.array(line[1].split(','), dtype=np.float64)\n",
    "            words_to_index[line[0]] = int(line[2])\n",
    "    return words_to_index, word_to_vec_map\n",
    "\n",
    "\n",
    "def read_csv(path):\n",
    "    files = file_io.get_matching_files('{}/part*'.format(path))\n",
    "    pdf = []\n",
    "    for file in files:\n",
    "        with file_io.FileIO(file, 'r') as f:\n",
    "            df = pd.read_csv(f)\n",
    "            if df is not None and len(df) != 0:\n",
    "                pdf.append(df)\n",
    "    if len(pdf) == 0:\n",
    "        return None\n",
    "    return pd.concat(pdf, axis=0, ignore_index=True).reset_index()\n",
    "\n",
    "\n",
    "def pretrained_embed_layer(word_to_vec_map, word_to_index):\n",
    "    vocab_len = len(word_to_index) + 1\n",
    "    emb_dim = word_to_vec_map[\"cucumber\"].shape[0]\n",
    "    emb_matrix = np.zeros((vocab_len, emb_dim))\n",
    "    for word, idx in word_to_index.items():\n",
    "        emb_matrix[idx, :] = word_to_vec_map[word]\n",
    "    embedding_layer = Embedding(input_dim=vocab_len, trainable=False, output_dim=emb_dim)\n",
    "    embedding_layer.build((None,))\n",
    "    embedding_layer.set_weights([emb_matrix])\n",
    "    return embedding_layer\n",
    "\n",
    "\n",
    "def define_model(input_shape, word_to_vec_map, word_to_index, rnn_units, dropout=0.5):\n",
    "    sentence_indices = Input(input_shape, dtype=\"int32\")\n",
    "    # Create the embedding layer pretrained with GloVe Vectors\n",
    "    embedding_layer = pretrained_embed_layer(word_to_vec_map, word_to_index)\n",
    "    # Propagate sentence_indices through your embedding layer\n",
    "    embeddings = embedding_layer(sentence_indices)\n",
    "    X = LSTM(units=rnn_units, return_sequences=False)(embeddings)\n",
    "    # Add dropout with a probability \n",
    "    X = Dropout(dropout)(X)\n",
    "    # Propagate X through a Dense layer\n",
    "    X = Dense(2)(X)\n",
    "    # Add a softmax activation\n",
    "    X = Activation(\"softmax\")(X)\n",
    "    # Create Model instance which converts sentence_indices into X.\n",
    "    model = Model(inputs=sentence_indices, outputs=X)\n",
    "    return model\n",
    "\n",
    "\n",
    "def convert_to_one_hot(Y, C=2):\n",
    "    Y = np.eye(C)[Y.reshape(-1)]\n",
    "    return Y\n",
    "\n",
    "def prepare_dataset(path, N, word_to_index):\n",
    "    data = read_csv(path)\n",
    "    data.dropna(inplace=True)\n",
    "    data['int_seq'] = data['int_seq'].apply(lambda x: [int(i) for i in x.split(',')])\n",
    "    l = data['int_seq'].apply(lambda x: len(x))\n",
    "    print(\"Max sequence is set to {}\".format(N))\n",
    "    data['int_seq'] = data['int_seq'].apply(lambda x: (x + [word_to_index[\"unk\"]] * N)[:N])\n",
    "    ds_x = np.asarray(list(data[\"int_seq\"]))\n",
    "    ds_y = data[\"class\"].values\n",
    "    return ds_x, ds_y, l\n",
    "\n",
    "\n",
    "def plot_metrics(callback, dir_to_save):\n",
    "    f, axes = plt.subplots(1, 2, figsize=(18, 5))\n",
    "    plt.style.use('seaborn')\n",
    "    plt.rcParams['axes.titlesize'] = 16\n",
    "    sns.lineplot(x=range(len(callback.losses)), y=callback.losses, ax=axes[0])\n",
    "    axes[0].title.set_text(\"Loss\")\n",
    "    sns.lineplot(x=range(len(callback.accuracies)), y=callback.accuracies, ax=axes[1])\n",
    "    axes[1].title.set_text(\"Accuracy\")\n",
    "    plt.tight_layout(.5)\n",
    "    plt.savefig('{}'.format(dir_to_save))\n",
    "    plt.show()\n",
    "\n",
    "\n",
    "if __name__ == '__main__':\n",
    "    parser = argparse.ArgumentParser()\n",
    "    parser.add_argument('--train_path', type=str, help=\"Train files path\")\n",
    "    parser.add_argument('--output_path', type=str, help=\"Models output path\")\n",
    "    parser.add_argument('--word_embeds', type=str, help=\"Models output path\")\n",
    "    parser.add_argument('--seq_len', type=int, help=\"Length of input sequence\")\n",
    "    parser.add_argument('--epochs', type=int, help=\"Number of epochs\")\n",
    "    args, d = parser.parse_known_args()\n",
    "\n",
    "    word_to_index, word_to_vec_map = read_glove_vectors(args.word_embeds)\n",
    "    N = args.seq_len\n",
    "    train_x, train_y, l = prepare_dataset(args.train_path, N, word_to_index)\n",
    "    train_y = convert_to_one_hot(train_y, C=2)\n",
    "    NUM_EPOCS = args.epochs\n",
    "    RNN_STATE_DIM = 32\n",
    "    LEARNING_RATE = 0.01\n",
    "\n",
    "    config_proto = tf.ConfigProto()\n",
    "    off = rewriter_config_pb2.RewriterConfig.OFF\n",
    "    config_proto.graph_options.rewrite_options.arithmetic_optimization = off\n",
    "    session = tf.Session(config=config_proto)\n",
    "    set_session(session)\n",
    "\n",
    "    model = define_model((N, ), word_to_vec_map, word_to_index, RNN_STATE_DIM)\n",
    "    print(model.summary())\n",
    "    model.compile(loss='binary_crossentropy', optimizer=Adam(lr=LEARNING_RATE), metrics=['accuracy'])\n",
    "    # fit model\n",
    "    metrics = MetricCallback()\n",
    "    a = model.fit(train_x, train_y, batch_size=1024, epochs=NUM_EPOCS, callbacks=[metrics], shuffle=True)\n",
    "\n",
    "    # save the model to file\n",
    "    local_dir = uuid4().hex\n",
    "    file_io.recursive_create_dir(local_dir)\n",
    "    local_path = '{}'.format(local_dir)\n",
    "    model.save(local_path, save_format='tf')\n",
    "    local_path_chart = '{}/metrics.png'.format(local_dir)\n",
    "    plot_metrics(metrics, local_path_chart)\n",
    "    \n",
    "    remote_dir = args.output_path\n",
    "    remote_path = '{}/saved_model.h5'.format(remote_dir)\n",
    "    remote_path_chart = '{}/metrics.png'.format(remote_dir)\n",
    "    \n",
    "    if not remote_dir.startswith('gs://'):\n",
    "        file_io.recursive_create_dir(remote_dir)\n",
    "    file_io.copy(local_path, remote_path)\n",
    "    file_io.copy(local_path_chart, remote_path_chart)\n",
    "    file_io.delete_recursively(local_dir)    \n"
   ]
  },
  {
   "cell_type": "markdown",
   "metadata": {},
   "source": [
    "## Prediction"
   ]
  },
  {
   "cell_type": "code",
   "execution_count": 131,
   "metadata": {},
   "outputs": [
    {
     "name": "stdout",
     "output_type": "stream",
     "text": [
      "Max sequence is set to 200\n"
     ]
    }
   ],
   "source": [
    "import warnings\n",
    "with warnings.catch_warnings():\n",
    "    warnings.simplefilter(\"ignore\")\n",
    "    from tensorflow.python.lib.io import file_io\n",
    "    import pandas as pd\n",
    "    import numpy as np\n",
    "\n",
    "df_x, df_y, l = prepare_dataset('gs://ai4ops/mldsl/data/demo_job_1586421552/test', 200, word_to_index)\n",
    "\n",
    "ints = np.random.choice(len(df_y), 200)\n",
    "\n",
    "test_x = df_x[ints]\n",
    "test_y = df_y[ints]\n",
    "test = test_x.tolist()\n",
    "\n",
    "dense=model.predict(test_x)\n",
    "dense=(dense[:,0]<dense[:,1]).astype(int)"
   ]
  },
  {
   "cell_type": "code",
   "execution_count": 132,
   "metadata": {},
   "outputs": [
    {
     "data": {
      "image/png": "[encoded data removed]",
      "text/plain": [
       "<Figure size 576x432 with 2 Axes>"
      ]
     },
     "metadata": {},
     "output_type": "display_data"
    }
   ],
   "source": [
    "conf_mat = confusion_matrix(test_y, dense)\n",
    "fig, ax = plt.subplots(figsize=(8,6))\n",
    "classes=['Negative', 'Positive']\n",
    "sns.heatmap(conf_mat, annot=True, fmt='d',xticklabels=classes, yticklabels=classes, cmap=plt.cm.BuGn)\n",
    "plt.ylabel('Actual')\n",
    "plt.xlabel('Predicted')\n",
    "plt.show()"
   ]
  },
  {
   "cell_type": "code",
   "execution_count": 133,
   "metadata": {},
   "outputs": [
    {
     "data": {
      "text/plain": [
       "{'0': {'precision': 0.7938144329896907,\n",
       "  'recall': 0.875,\n",
       "  'f1-score': 0.8324324324324325,\n",
       "  'support': 88},\n",
       " '1': {'precision': 0.8932038834951457,\n",
       "  'recall': 0.8214285714285714,\n",
       "  'f1-score': 0.8558139534883721,\n",
       "  'support': 112},\n",
       " 'accuracy': 0.845,\n",
       " 'macro avg': {'precision': 0.8435091582424181,\n",
       "  'recall': 0.8482142857142857,\n",
       "  'f1-score': 0.8441231929604023,\n",
       "  'support': 200},\n",
       " 'weighted avg': {'precision': 0.8494725252727454,\n",
       "  'recall': 0.845,\n",
       "  'f1-score': 0.8455260842237586,\n",
       "  'support': 200}}"
      ]
     },
     "execution_count": 133,
     "metadata": {},
     "output_type": "execute_result"
    }
   ],
   "source": [
    "classification_report(test_y, dense,output_dict=True)"
   ]
  },
  {
   "cell_type": "code",
   "execution_count": null,
   "metadata": {},
   "outputs": [],
   "source": []
  }
 ],
 "metadata": {
  "kernelspec": {
   "display_name": "Python 3",
   "language": "python",
   "name": "python3"
  },
  "language_info": {
   "codemirror_mode": {
    "name": "ipython",
    "version": 3
   },
   "file_extension": ".py",
   "mimetype": "text/x-python",
   "name": "python",
   "nbconvert_exporter": "python",
   "pygments_lexer": "ipython3",
   "version": "3.7.3"
  }
 },
 "nbformat": 4,
 "nbformat_minor": 4
}
